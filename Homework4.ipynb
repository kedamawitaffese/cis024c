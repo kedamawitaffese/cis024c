{
 "cells": [
  {
   "cell_type": "markdown",
   "metadata": {},
   "source": [
    "#Exercise 1"
   ]
  },
  {
   "cell_type": "markdown",
   "metadata": {},
   "source": [
    "#1 list is a data structur in python that is mutable or changeable were as Tuple is like list the differance it can not be \n",
    "   changed.\n",
    "#2 Dictionary is collection of objects values in set. List is collection of values.    "
   ]
  },
  {
   "cell_type": "markdown",
   "metadata": {},
   "source": [
    "#Exercise 2"
   ]
  },
  {
   "cell_type": "code",
   "execution_count": 7,
   "metadata": {},
   "outputs": [
    {
     "name": "stdout",
     "output_type": "stream",
     "text": [
      "[1, 2, 3, 4, 5, 6, 7, 8, 9, 10]\n"
     ]
    }
   ],
   "source": [
    "List = [1,2,3,4,5,6,7,8,9,10]\n",
    "print List"
   ]
  },
  {
   "cell_type": "code",
   "execution_count": 10,
   "metadata": {},
   "outputs": [
    {
     "name": "stdout",
     "output_type": "stream",
     "text": [
      "(1, 2, 3, 4, 5, 6, 7, 8, 9, 10)\n"
     ]
    }
   ],
   "source": [
    "Tuple = (1,2,3,4,5,6,7,8,9,10)\n",
    "print Tuple"
   ]
  },
  {
   "cell_type": "code",
   "execution_count": 12,
   "metadata": {},
   "outputs": [
    {
     "name": "stdout",
     "output_type": "stream",
     "text": [
      "{'four': 'D', 'seven': 'H', 'five': 'F', 'three': 'C', 'eight': 'Z', 'six': 'G', 'two': 'B', 'one': 'A'}\n"
     ]
    }
   ],
   "source": [
    "myDict = {\"one\":\"A\",\"two\":\"B\",\"three\":\"C\",\"four\":\"D\",\"five\":\"F\",\"six\":\"G\",\"seven\":\"H\",\"eight\":\"Z\",}\n",
    "print myDict"
   ]
  },
  {
   "cell_type": "markdown",
   "metadata": {},
   "source": [
    "#Exercise 3"
   ]
  },
  {
   "cell_type": "code",
   "execution_count": 18,
   "metadata": {},
   "outputs": [
    {
     "name": "stdout",
     "output_type": "stream",
     "text": [
      "1\n",
      "18\n",
      "2\n",
      "3\n",
      "10\n",
      "60\n",
      "7\n",
      "8\n",
      "25\n",
      "88\n"
     ]
    }
   ],
   "source": [
    "myList = [1,18,2,3,10,60,7,8,25,88]\n",
    "\n",
    "for value in myList:\n",
    "    print value"
   ]
  },
  {
   "cell_type": "markdown",
   "metadata": {},
   "source": [
    "#Exercise 4"
   ]
  },
  {
   "cell_type": "code",
   "execution_count": 20,
   "metadata": {},
   "outputs": [
    {
     "name": "stdout",
     "output_type": "stream",
     "text": [
      "Please enter a list of names separated by commas:samson,lilli,kedamwi,michael,bemnet\n",
      "['bemnet', 'kedamwi', 'lilli', 'michael', 'samson']\n"
     ]
    }
   ],
   "source": [
    "names = raw_input(\"Please enter a list of names separated by commas:\")\n",
    "\n",
    "namesList = names.split(\",\")\n",
    "\n",
    "print sorted(namesList)"
   ]
  },
  {
   "cell_type": "markdown",
   "metadata": {},
   "source": [
    "#Exercise 5"
   ]
  },
  {
   "cell_type": "code",
   "execution_count": 22,
   "metadata": {},
   "outputs": [
    {
     "name": "stdout",
     "output_type": "stream",
     "text": [
      "Enter a key:4\n",
      "Mathew\n"
     ]
    }
   ],
   "source": [
    "myDict = {1:\"Harry\",2:\"Sally\",3:\"Joe\",4:\"Mathew\"}\n",
    "\n",
    "userInput = int(raw_input(\"Enter a key:\"))\n",
    "\n",
    "print myDict[userInput]"
   ]
  }
 ],
 "metadata": {
  "kernelspec": {
   "display_name": "Python 2",
   "language": "python",
   "name": "python2"
  },
  "language_info": {
   "codemirror_mode": {
    "name": "ipython",
    "version": 2
   },
   "file_extension": ".py",
   "mimetype": "text/x-python",
   "name": "python",
   "nbconvert_exporter": "python",
   "pygments_lexer": "ipython2",
   "version": "2.7.14"
  }
 },
 "nbformat": 4,
 "nbformat_minor": 2
}
