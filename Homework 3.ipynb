{
 "cells": [
  {
   "cell_type": "markdown",
   "metadata": {},
   "source": [
    "#Exercise 1"
   ]
  },
  {
   "cell_type": "code",
   "execution_count": 1,
   "metadata": {},
   "outputs": [
    {
     "name": "stdout",
     "output_type": "stream",
     "text": [
      "Enter Harry's age:19\n",
      "Enter Sallly's age:19\n",
      "Enter Mary's age:31\n",
      "Harry and Sally are less than 20 years old\n",
      "Either Sally or Mary is oleder than 30\n"
     ]
    }
   ],
   "source": [
    "HarrysAge = int(input(\"Enter Harry's age:\"))\n",
    "SallysAge = int(input(\"Enter Sallly's age:\"))\n",
    "MarysAge = int(input(\"Enter Mary's age:\"))\n",
    "if HarrysAge < 20 and SallysAge < 20:\n",
    "    print \"Harry and Sally are less than 20 years old\"\n",
    "if SallysAge > 30  or MarysAge >30:\n",
    "    print \"Either Sally or Mary is oleder than 30\""
   ]
  },
  {
   "cell_type": "markdown",
   "metadata": {
    "collapsed": true
   },
   "source": [
    "#Exercise 2\n"
   ]
  },
  {
   "cell_type": "code",
   "execution_count": 10,
   "metadata": {},
   "outputs": [
    {
     "name": "stdout",
     "output_type": "stream",
     "text": [
      "Enter your first name:kedamawi\n",
      "Number of characters in the first name is: 8\n"
     ]
    }
   ],
   "source": [
    "firstName = raw_input(\"Enter your first name:\")\n",
    "\n",
    "print \"Number of characters in the first name is:\", len(firstName)"
   ]
  },
  {
   "cell_type": "markdown",
   "metadata": {},
   "source": [
    "#Exercise 3\n"
   ]
  },
  {
   "cell_type": "code",
   "execution_count": 2,
   "metadata": {},
   "outputs": [
    {
     "name": "stdout",
     "output_type": "stream",
     "text": [
      "Enter your favorite movie:the englsi pationt \n",
      "Movie name in reverse is:  tnoitap islgne eht\n"
     ]
    }
   ],
   "source": [
    "favoriteMovie = raw_input(\"Enter your favorite movie:\")\n",
    "\n",
    "print \"Movie name in reverse is:\", favoriteMovie[::-1]"
   ]
  },
  {
   "cell_type": "markdown",
   "metadata": {},
   "source": [
    "#Exercise 4"
   ]
  },
  {
   "cell_type": "code",
   "execution_count": 1,
   "metadata": {},
   "outputs": [
    {
     "name": "stdout",
     "output_type": "stream",
     "text": [
      "Enter a line of text:Pyton class starts every monday at 5:30\n",
      "Enter a search string:every\n",
      "Search String Found\n"
     ]
    }
   ],
   "source": [
    "text = raw_input(\"Enter a line of text:\")\n",
    "searchString = raw_input(\"Enter a search string:\")\n",
    "\n",
    "if searchString.lower() in text.lower():\n",
    "    print \"Search String Found\"\n",
    "else:\n",
    "    print \"Search String Not Found\""
   ]
  },
  {
   "cell_type": "markdown",
   "metadata": {},
   "source": [
    "\n",
    "#Exercise 5"
   ]
  },
  {
   "cell_type": "code",
   "execution_count": null,
   "metadata": {},
   "outputs": [],
   "source": [
    "groceryList = input(\"Enter a comma separated grocery list:\")\n",
    "\n",
    "tokens = groceryList.split(\",\")\n",
    "\n",
    "print tokens[(len(tokens)-1)]"
   ]
  }
 ],
 "metadata": {
  "kernelspec": {
   "display_name": "Python 2",
   "language": "python",
   "name": "python2"
  },
  "language_info": {
   "codemirror_mode": {
    "name": "ipython",
    "version": 2
   },
   "file_extension": ".py",
   "mimetype": "text/x-python",
   "name": "python",
   "nbconvert_exporter": "python",
   "pygments_lexer": "ipython2",
   "version": "2.7.14"
  }
 },
 "nbformat": 4,
 "nbformat_minor": 2
}
