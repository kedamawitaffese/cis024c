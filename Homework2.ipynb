{
 "cells": [
  {
   "cell_type": "markdown",
   "metadata": {},
   "source": [
    "#Exciercis 1"
   ]
  },
  {
   "cell_type": "code",
   "execution_count": 18,
   "metadata": {},
   "outputs": [
    {
     "name": "stdout",
     "output_type": "stream",
     "text": [
      "Enter your number:101\n",
      "Found a number grater than 100\n"
     ]
    }
   ],
   "source": [
    "number = int(input(\"Enter your number:\"))\n",
    "if number > 100:\n",
    "    print \"Found a number grater than 100\""
   ]
  },
  {
   "cell_type": "markdown",
   "metadata": {},
   "source": [
    "#Exciercis 2"
   ]
  },
  {
   "cell_type": "code",
   "execution_count": 21,
   "metadata": {},
   "outputs": [
    {
     "name": "stdout",
     "output_type": "stream",
     "text": [
      "Enter your name:kedamawi\n",
      "User Joe was not entered\n"
     ]
    }
   ],
   "source": [
    "name = raw_input(\"Enter your name:\")\n",
    "\n",
    "if name == \"joe\":\n",
    "    print \"User Joe was entered\"\n",
    "else:\n",
    "    print \"User Joe was not entered\""
   ]
  },
  {
   "cell_type": "markdown",
   "metadata": {},
   "source": [
    "#Exciercis 3"
   ]
  },
  {
   "cell_type": "code",
   "execution_count": 24,
   "metadata": {},
   "outputs": [
    {
     "name": "stdout",
     "output_type": "stream",
     "text": [
      "Enter your salary: 100000\n",
      "user salary is greater than or equal to 100,000\n"
     ]
    }
   ],
   "source": [
    "salary = int(input(\"Enter your salary: \"))\n",
    "if salary >= 10000:\n",
    "    print \"user salary is greater than or equal to 100,000\"\n",
    "elif salary > 70000:\n",
    "    print \"user salary is less than 100,000\"\n",
    "else:\n",
    "    print \"user salary is less than 70,000\""
   ]
  },
  {
   "cell_type": "markdown",
   "metadata": {},
   "source": [
    "#Exciercis 4"
   ]
  },
  {
   "cell_type": "code",
   "execution_count": 1,
   "metadata": {},
   "outputs": [
    {
     "name": "stdout",
     "output_type": "stream",
     "text": [
      "Enter the ending value:10\n",
      "Total is: 45\n"
     ]
    }
   ],
   "source": [
    "numberSum = 0\n",
    "\n",
    "beginning_number = 1\n",
    "ending_number = int(raw_input(\"Enter the ending value:\"))\n",
    "\n",
    "for number in range(beginning_number,ending_number):\n",
    "    numberSum = numberSum + number\n",
    "    \n",
    "print \"Total is:\", numberSum"
   ]
  },
  {
   "cell_type": "code",
   "execution_count": null,
   "metadata": {
    "collapsed": true
   },
   "outputs": [],
   "source": []
  }
 ],
 "metadata": {
  "kernelspec": {
   "display_name": "Python 2",
   "language": "python",
   "name": "python2"
  },
  "language_info": {
   "codemirror_mode": {
    "name": "ipython",
    "version": 2
   },
   "file_extension": ".py",
   "mimetype": "text/x-python",
   "name": "python",
   "nbconvert_exporter": "python",
   "pygments_lexer": "ipython2",
   "version": "2.7.14"
  }
 },
 "nbformat": 4,
 "nbformat_minor": 2
}
